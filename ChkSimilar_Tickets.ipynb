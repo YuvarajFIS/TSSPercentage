{
 "cells": [
  {
   "cell_type": "code",
   "execution_count": null,
   "metadata": {},
   "outputs": [],
   "source": [
    "# ========================HEADER_START=================================\n",
    "# %%\n",
    "#\n",
    "# Copying, reproduction or distribution should be limited and only to\n",
    "# employees with a \"need to know\" to do their job. Any disclosure of \n",
    "# this document to third parties is strictly prohibited.\n",
    "#\n",
    "# FILE: ChkSimilar_Tickets.ipynb\n",
    "# Description: This program is to take a Ticket Number as input and \n",
    "# list all similar existing top 5 Ticket Numbers from the database. \n",
    "# These 5 Ticket Numbers are checked with the \n",
    "# \n",
    "# =========================HEADER_END==================================\n",
    "#\n",
    "# @author Yuvaraj Kumar NA\n",
    "# 20/Feb/2025\n"
   ]
  }
 ],
 "metadata": {
  "kernelspec": {
   "display_name": "Python 3",
   "language": "python",
   "name": "python3"
  },
  "language_info": {
   "name": "python",
   "version": "3.8.10"
  }
 },
 "nbformat": 4,
 "nbformat_minor": 2
}

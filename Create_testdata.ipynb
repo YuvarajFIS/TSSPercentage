{
 "cells": [
  {
   "cell_type": "code",
   "execution_count": 1,
   "metadata": {},
   "outputs": [],
   "source": [
    "# ========================HEADER_START=================================\n",
    "# %%\n",
    "#\n",
    "# Copying, reproduction or distribution should be limited and only to\n",
    "# employees with a \"need to know\" to do their job. Any disclosure of \n",
    "# this document to third parties is strictly prohibited.\n",
    "#\n",
    "# FILE: Create_testdata.ipynb\n",
    "# Description: Create test data from tickets report downloaded from \n",
    "# Teamsupport site. This data is used for evaluation testing of this\n",
    "# project.\n",
    "# =========================HEADER_END==================================\n",
    "#\n",
    "# @author Yuvaraj Kumar NA\n",
    "# Jan/3/2025\n",
    "# \n"
   ]
  },
  {
   "cell_type": "code",
   "execution_count": 2,
   "metadata": {},
   "outputs": [],
   "source": [
    "import numpy as np\n",
    "import pandas as pd\n",
    "import re\n"
   ]
  },
  {
   "cell_type": "code",
   "execution_count": 3,
   "metadata": {},
   "outputs": [],
   "source": [
    "def extract_tktnumbers(text):\n",
    "    # Regular expression to match 7-digit numbers after '%' with optional 'FIX'\n",
    "    pattern = r'%\\s*(?:Match)?(\\d{7})'\n",
    "    matches = re.findall(pattern, text)\n",
    "    return matches\n"
   ]
  },
  {
   "cell_type": "code",
   "execution_count": 4,
   "metadata": {},
   "outputs": [
    {
     "name": "stdout",
     "output_type": "stream",
     "text": [
      "\n",
      "Final DF columns:\n",
      "['Ticket Number', 'Action Description', 'Action Type']\n",
      "       Ticket Number                                 Action Description\n",
      "42233        3307698  Ticket Summaries reflect current state of tick...\n",
      "42238        3309036  Ticket Summaries reflect current state of tick...\n",
      "42267        3309036  Ticket Summaries reflect current state of tick...\n"
     ]
    }
   ],
   "source": [
    "file_path=\"C:\\Yuvpersonal\\AIML\\M.Tech BITS-Pilani\\Sem 4\\Project Docs\\InvestOne_qtrly_tickets.csv\"\n",
    "df = pd.read_csv(file_path)\n",
    "\n",
    "#cols_available=['Group Name', 'Ticket Name', 'Ticket Number', 'Action Creator Name', 'Action Description', 'Date Action Created', 'Action Type']\n",
    "cols_to_drop=['Group Name', 'Ticket Name', 'Action Creator Name',  'Date Action Created']\n",
    "df=df.drop(columns=cols_to_drop,axis=1)\n",
    "\n",
    "filtered_df=df[df['Action Type']=='Ticket Similarity']\n",
    "\n",
    "print(\"\\nFinal DF columns:\")\n",
    "print(filtered_df.columns.tolist())\n",
    "\n",
    "filtered_df=filtered_df.drop(columns='Action Type',axis=1)\n",
    "\n",
    "print(filtered_df.head(3))\n"
   ]
  },
  {
   "cell_type": "code",
   "execution_count": 5,
   "metadata": {},
   "outputs": [],
   "source": [
    "filtered_df['Similar Tickets'] = filtered_df['Action Description'].apply(extract_tktnumbers)\n",
    "\n",
    "filtered_df=filtered_df.drop(columns='Action Description',axis=1)\n",
    "\n",
    "#Ticket Number and Similar Tickets are stored in an excel file for evaluation test later\n",
    "filtered_df.to_excel(\"C:\\Yuvpersonal\\AIML\\M.Tech BITS-Pilani\\Sem 4\\Project Docs\\SimilarTickets_testdata.xlsx\",index=False)"
   ]
  },
  {
   "cell_type": "code",
   "execution_count": 6,
   "metadata": {},
   "outputs": [
    {
     "name": "stdout",
     "output_type": "stream",
     "text": [
      "       Ticket Number                                Similar Tickets\n",
      "42233        3307698  [2830195, 3056853, 2627413, 2676474, 2873432]\n",
      "42238        3309036  [3098201, 2793931, 2589648, 2867330, 3080126]\n",
      "42267        3309036  [3309027, 2854222, 3080126, 3034460, 2854556]\n"
     ]
    }
   ],
   "source": [
    "print(filtered_df.head(3))"
   ]
  }
 ],
 "metadata": {
  "kernelspec": {
   "display_name": "Python 3",
   "language": "python",
   "name": "python3"
  },
  "language_info": {
   "codemirror_mode": {
    "name": "ipython",
    "version": 3
   },
   "file_extension": ".py",
   "mimetype": "text/x-python",
   "name": "python",
   "nbconvert_exporter": "python",
   "pygments_lexer": "ipython3",
   "version": "3.8.10"
  }
 },
 "nbformat": 4,
 "nbformat_minor": 2
}

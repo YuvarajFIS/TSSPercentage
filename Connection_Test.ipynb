{
 "cells": [
  {
   "cell_type": "code",
   "execution_count": 11,
   "metadata": {},
   "outputs": [],
   "source": [
    "#!pip3 install ollama"
   ]
  },
  {
   "cell_type": "code",
   "execution_count": 1,
   "metadata": {},
   "outputs": [],
   "source": [
    "import requests\n",
    "import json\n",
    "import os\n",
    "import pandas as pd"
   ]
  },
  {
   "cell_type": "code",
   "execution_count": 13,
   "metadata": {},
   "outputs": [],
   "source": [
    "#Get the API Key from the environment.\n",
    "try :\n",
    "    DSAPI_KEY = os.getenv(\"DS_API_KEY\")\n",
    "    CGAPI_KEY = os.getenv(\"CG_API_KEY\")\n",
    "    MSTRLAPI_KEY = os.getenv(\"MSTRL_API_KEY\")\n",
    "    if not DSAPI_KEY or not CGAPI_KEY or not MSTRLAPI_KEY:\n",
    "        raise ValueError(\"API keys not set\")\n",
    "except Exception as e:\n",
    "    print(f\"An unexpected error occurred {e}\")\n"
   ]
  },
  {
   "cell_type": "code",
   "execution_count": 16,
   "metadata": {},
   "outputs": [
    {
     "name": "stdout",
     "output_type": "stream",
     "text": [
      "Assistant Response: Hello! Nice to meet you. How are you today? Let's have a friendly conversation. 😊 How about I share an interesting fact or a light joke to start?\n",
      "\n",
      "Interesting fact: Did you know that a day on Venus is longer than a year on Venus? It takes Venus about 243 Earth days to rotate once on its axis, but it only takes around 225 Earth days for Venus to orbit the Sun.\n",
      "\n",
      "Or, if you prefer a light joke:\n",
      "\n",
      "What do you call fake spaghetti?\n",
      "An impasta!\n"
     ]
    }
   ],
   "source": [
    "# Mistral communication\n",
    "endpoint_url = 'https://api.mistral.ai/v1/chat/completions'\n",
    "#endpoint_url = 'https://api.mistral.ai/v1/models/open-mistral-7b/generate'\n",
    "\n",
    "headers = {\n",
    "    'Authorization': f'Bearer {MSTRLAPI_KEY}',\n",
    "    'Content-Type': 'application/json'\n",
    "}\n",
    "\n",
    "payload = {\n",
    "    'model': 'mistral-large-latest',  # Replace with the appropriate model name if different\n",
    "    'messages': [\n",
    "        {'role': 'user', 'content': 'Hello World!'}\n",
    "    ]\n",
    "}\n",
    "\n",
    "response = requests.post(endpoint_url, headers=headers, json=payload)\n",
    "\n",
    "if response.status_code == 200:\n",
    "    data = response.json()\n",
    "    print('Assistant Response:', data['choices'][0]['message']['content'])\n",
    "else:\n",
    "    print('Error:', response.status_code, response.text)\n"
   ]
  },
  {
   "cell_type": "code",
   "execution_count": null,
   "metadata": {},
   "outputs": [],
   "source": [
    "file_path=\"C:\\Yuvpersonal\\AIML\\M.Tech BITS-Pilani\\Sem 4\\Project Docs\\Ticket_story.csv\"\n",
    "df = pd.read_csv(file_path)\n",
    "\n",
    "payload = {\n",
    "    'model': 'mistral-large-latest',  # Replace with the appropriate model name if different\n",
    "    'messages': [\n",
    "        {'role': 'user', 'content': df[]}\n",
    "    ]\n",
    "}\n",
    "\n",
    "\n",
    "\n",
    "response = requests.post(endpoint_url, headers=headers, json=payload)\n",
    "\n",
    "if response.status_code == 200:\n",
    "    data = response.json()\n",
    "    print('Assistant Response:', data['choices'][0]['message']['content'])\n",
    "else:\n",
    "    print('Error:', response.status_code, response.text)\n"
   ]
  }
 ],
 "metadata": {
  "kernelspec": {
   "display_name": "Python 3",
   "language": "python",
   "name": "python3"
  },
  "language_info": {
   "codemirror_mode": {
    "name": "ipython",
    "version": 3
   },
   "file_extension": ".py",
   "mimetype": "text/x-python",
   "name": "python",
   "nbconvert_exporter": "python",
   "pygments_lexer": "ipython3",
   "version": "3.10.0"
  }
 },
 "nbformat": 4,
 "nbformat_minor": 2
}

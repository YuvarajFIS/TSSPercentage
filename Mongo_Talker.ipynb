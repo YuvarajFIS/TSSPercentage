{
 "cells": [
  {
   "cell_type": "code",
   "execution_count": 2,
   "metadata": {},
   "outputs": [],
   "source": [
    "#!!pip install pymongo"
   ]
  },
  {
   "cell_type": "code",
   "execution_count": 3,
   "metadata": {},
   "outputs": [],
   "source": [
    "from pymongo import MongoClient"
   ]
  },
  {
   "cell_type": "code",
   "execution_count": 5,
   "metadata": {},
   "outputs": [],
   "source": [
    "# Replace the following with your MongoDB connection details\n",
    "mongo_uri = 'mongodb://localhost:27017/'  # Example for a local MongoDB instance\n",
    "database_name = 'TSS-Percentage'\n",
    "collection_name = 'TSSP-Project'\n",
    "\n",
    "# Create a MongoClient to the running MongoDB instance\n",
    "client = MongoClient(mongo_uri)\n",
    "\n",
    "# Access the specified database\n",
    "db = client[database_name]\n",
    "\n",
    "# Access the specified collection\n",
    "collection = db[collection_name]"
   ]
  },
  {
   "cell_type": "code",
   "execution_count": 6,
   "metadata": {},
   "outputs": [
    {
     "name": "stdout",
     "output_type": "stream",
     "text": [
      "Data inserted successfully with ID: 67b4ca73aa22671b0b629e47\n"
     ]
    }
   ],
   "source": [
    "# Example data to insert\n",
    "data = {\n",
    "    'message': 'Hello, world!',\n",
    "    'response': 'Hello! How can I assist you today? Let\\'s have a friendly conversation. How are you doing?'\n",
    "}\n",
    "\n",
    "# Insert the data into the collection\n",
    "result = collection.insert_one(data)\n",
    "\n",
    "# Check if the insertion was successful\n",
    "if result.inserted_id:\n",
    "    print('Data inserted successfully with ID:', result.inserted_id)\n",
    "else:\n",
    "    print('Failed to insert data')"
   ]
  },
  {
   "cell_type": "code",
   "execution_count": 7,
   "metadata": {},
   "outputs": [
    {
     "name": "stdout",
     "output_type": "stream",
     "text": [
      "Queried Data: {'_id': ObjectId('67b4ca73aa22671b0b629e47'), 'message': 'Hello, world!', 'response': \"Hello! How can I assist you today? Let's have a friendly conversation. How are you doing?\"}\n"
     ]
    }
   ],
   "source": [
    "# Query the inserted data\n",
    "inserted_data = collection.find_one({'_id': result.inserted_id})\n",
    "\n",
    "# Print the queried data\n",
    "print('Queried Data:', inserted_data)"
   ]
  }
 ],
 "metadata": {
  "kernelspec": {
   "display_name": "Python 3",
   "language": "python",
   "name": "python3"
  },
  "language_info": {
   "codemirror_mode": {
    "name": "ipython",
    "version": 3
   },
   "file_extension": ".py",
   "mimetype": "text/x-python",
   "name": "python",
   "nbconvert_exporter": "python",
   "pygments_lexer": "ipython3",
   "version": "3.10.0"
  }
 },
 "nbformat": 4,
 "nbformat_minor": 2
}

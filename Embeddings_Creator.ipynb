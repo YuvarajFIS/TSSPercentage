{
 "cells": [
  {
   "cell_type": "code",
   "execution_count": 7,
   "metadata": {},
   "outputs": [],
   "source": [
    "#!pip install tensorflow==2.12.0\n",
    "#!pip install transformers==4.30.2\n",
    "#!pip install sentence-transformers\n",
    "#!pip install tf-keras\n",
    "#!pip install huggingface_hub==0.14.1\n",
    "#!pip install --upgrade 'optree>=0.13.0'"
   ]
  },
  {
   "cell_type": "code",
   "execution_count": 5,
   "metadata": {},
   "outputs": [],
   "source": [
    "from sentence_transformers import SentenceTransformer"
   ]
  },
  {
   "cell_type": "code",
   "execution_count": 6,
   "metadata": {},
   "outputs": [
    {
     "name": "stderr",
     "output_type": "stream",
     "text": [
      "Downloading .gitattributes: 100%|██████████| 1.23k/1.23k [00:00<?, ?B/s]\n",
      "Downloading (…)ooling%2Fconfig.json: 100%|██████████| 190/190 [00:00<?, ?B/s] \n",
      "Downloading README.md: 100%|██████████| 10.7k/10.7k [00:00<00:00, 5.30MB/s]\n",
      "Downloading config.json: 100%|██████████| 612/612 [00:00<00:00, 609kB/s]\n",
      "Downloading (…)ce_transformers.json: 100%|██████████| 116/116 [00:00<00:00, 105kB/s]\n",
      "Downloading data_config.json: 100%|██████████| 39.3k/39.3k [00:00<00:00, 6.14MB/s]\n",
      "Downloading model.safetensors: 100%|██████████| 90.9M/90.9M [00:08<00:00, 11.3MB/s]\n",
      "Downloading model.onnx: 100%|██████████| 90.4M/90.4M [00:08<00:00, 10.9MB/s]\n",
      "Downloading model_O1.onnx: 100%|██████████| 90.4M/90.4M [00:07<00:00, 11.3MB/s]\n",
      "Downloading model_O2.onnx: 100%|██████████| 90.3M/90.3M [00:07<00:00, 11.4MB/s]\n",
      "Downloading model_O3.onnx: 100%|██████████| 90.3M/90.3M [00:07<00:00, 11.4MB/s]\n",
      "Downloading model_O4.onnx: 100%|██████████| 45.2M/45.2M [00:03<00:00, 11.5MB/s]\n",
      "Downloading model_qint8_arm64.onnx: 100%|██████████| 23.0M/23.0M [00:01<00:00, 11.5MB/s]\n",
      "Downloading (…)el_qint8_avx512.onnx: 100%|██████████| 23.0M/23.0M [00:02<00:00, 11.5MB/s]\n",
      "Downloading (…)nt8_avx512_vnni.onnx: 100%|██████████| 23.0M/23.0M [00:02<00:00, 10.4MB/s]\n",
      "Downloading model_quint8_avx2.onnx: 100%|██████████| 23.0M/23.0M [00:01<00:00, 11.7MB/s]\n",
      "Downloading openvino_model.bin: 100%|██████████| 90.3M/90.3M [00:08<00:00, 11.1MB/s]\n",
      "Downloading (…)2Fopenvino_model.xml: 100%|██████████| 211k/211k [00:00<00:00, 1.08MB/s]\n",
      "Downloading (…)_qint8_quantized.bin: 100%|██████████| 22.9M/22.9M [00:02<00:00, 11.4MB/s]\n",
      "Downloading (…)_qint8_quantized.xml: 100%|██████████| 368k/368k [00:00<00:00, 977kB/s]\n",
      "Downloading pytorch_model.bin: 100%|██████████| 90.9M/90.9M [00:07<00:00, 11.6MB/s]\n",
      "Downloading (…)nce_bert_config.json: 100%|██████████| 53.0/53.0 [00:00<?, ?B/s]\n",
      "Downloading (…)cial_tokens_map.json: 100%|██████████| 112/112 [00:00<?, ?B/s] \n",
      "Downloading tokenizer.json: 100%|██████████| 466k/466k [00:00<00:00, 1.20MB/s]\n",
      "Downloading tokenizer_config.json: 100%|██████████| 350/350 [00:00<?, ?B/s] \n",
      "Downloading train_script.py: 100%|██████████| 13.2k/13.2k [00:00<00:00, 9.16MB/s]\n",
      "Downloading vocab.txt: 100%|██████████| 232k/232k [00:00<00:00, 13.8MB/s]\n",
      "Downloading modules.json: 100%|██████████| 349/349 [00:00<00:00, 350kB/s]\n"
     ]
    },
    {
     "name": "stdout",
     "output_type": "stream",
     "text": [
      "Embedding for summary 1: [ 0.02138905  0.00452186  0.02262842 -0.00057138 -0.09882374]... (truncated for display)\n",
      "Embedding for summary 2: [ 0.02857126  0.06253508  0.01094665 -0.04581927 -0.03204189]... (truncated for display)\n",
      "Embedding for summary 3: [ 0.06855763  0.01735488  0.05586319 -0.00800125 -0.01214602]... (truncated for display)\n",
      "Embedding for summary 4: [-0.04543468 -0.00058422  0.03933748 -0.14233704 -0.0023289 ]... (truncated for display)\n"
     ]
    }
   ],
   "source": [
    "# Load the pre-trained model\n",
    "model = SentenceTransformer('all-MiniLM-L6-v2')\n",
    "\n",
    "# Example ticket summaries\n",
    "ticket_summaries = [\n",
    "    \"Customer reports issues with internet connectivity.\",\n",
    "    \"User unable to access email account.\",\n",
    "    \"Network outage affecting multiple users.\",\n",
    "    \"Request for software upgrade on user's device.\"\n",
    "]\n",
    "\n",
    "# Generate embeddings for the ticket summaries\n",
    "embeddings = model.encode(ticket_summaries)\n",
    "\n",
    "# Print the embeddings (these are numerical vectors)\n",
    "for i, embedding in enumerate(embeddings):\n",
    "    print(f\"Embedding for summary {i+1}: {embedding[:5]}... (truncated for display)\")"
   ]
  }
 ],
 "metadata": {
  "kernelspec": {
   "display_name": "Python 3",
   "language": "python",
   "name": "python3"
  },
  "language_info": {
   "codemirror_mode": {
    "name": "ipython",
    "version": 3
   },
   "file_extension": ".py",
   "mimetype": "text/x-python",
   "name": "python",
   "nbconvert_exporter": "python",
   "pygments_lexer": "ipython3",
   "version": "3.10.0"
  }
 },
 "nbformat": 4,
 "nbformat_minor": 2
}
